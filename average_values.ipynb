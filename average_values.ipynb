{
 "cells": [
  {
   "cell_type": "code",
   "execution_count": null,
   "id": "1c1ff9c9",
   "metadata": {},
   "outputs": [
    {
     "name": "stdout",
     "output_type": "stream",
     "text": [
      "✓ Averages written to H:J in '6_redesign_2D'\n"
     ]
    }
   ],
   "source": [
    "import pandas as pd\n",
    "import numpy as np\n",
    "from openpyxl.utils import get_column_letter\n",
    "\n",
    "file_in    = \"modified_CBEAM_axial_stress_and_2Delements.xlsx\"\n",
    "# sheet_name = \"6_redesign_2D\"\n",
    "sheet_name = \"5_redesign_CBEAM\"\n",
    "# BLOCK      = 6                          # average every 6 rows 2D elements\n",
    "BLOCK      = 3                          # average every 3 rows stringer elements\n",
    "# cols_src   = [\"XX\",\"XY\",\"YY\"]         # 2d elements average\n",
    "cols_src   = [\"axial_stress\"]         # stringer elements average\n",
    "\n",
    "# 1) read\n",
    "df = pd.read_excel(file_in, sheet_name=sheet_name, engine=\"openpyxl\")\n",
    "\n",
    "# 2) make sure the source cols are numeric\n",
    "df[cols_src] = df[cols_src].apply(pd.to_numeric, errors=\"coerce\")\n",
    "\n",
    "# 4) build a block id (0,0,0,0,0,0,1,1,1…)\n",
    "df[\"grp\"] = df.index // BLOCK\n",
    "\n",
    "# 5) compute block means (same length as df) → new DataFrame\n",
    "means = (\n",
    "    df.groupby(\"grp\")[cols_src]\n",
    "      .transform(\"mean\")                        # N rows × 3 cols\n",
    ")\n",
    "\n",
    "# 6) attach the new columns\n",
    "first_blank = len(df.columns)                     # remember first blank slot\n",
    "\n",
    "# df[['sig_xx_avg','sig_xy_avg','sig_yy_avg']] = means.values\n",
    "df[['sig_str_avg']] = means.values\n",
    "\n",
    "# 7) write those three columns back (overlay keeps sheet intact)\n",
    "with pd.ExcelWriter(file_in,\n",
    "                    engine=\"openpyxl\",\n",
    "                    mode=\"a\",\n",
    "                    if_sheet_exists=\"overlay\") as w:\n",
    "    # df[['sig_xx_avg','sig_xy_avg','sig_yy_avg']].to_excel( #2d elements average values\n",
    "    df[['sig_str_avg']].to_excel( # stringer elements average values\n",
    "        w,\n",
    "        sheet_name=sheet_name,\n",
    "        index=False,\n",
    "        startcol=first_blank                      # zero-based first free col\n",
    "    )\n",
    "\n",
    "col_start = get_column_letter(first_blank + 1)\n",
    "col_end   = get_column_letter(first_blank + len(cols_src))\n",
    "print(f\"✓ Averages written to {col_start}:{col_end} in '{sheet_name}'\")\n"
   ]
  }
 ],
 "metadata": {
  "kernelspec": {
   "display_name": "Python 3",
   "language": "python",
   "name": "python3"
  },
  "language_info": {
   "codemirror_mode": {
    "name": "ipython",
    "version": 3
   },
   "file_extension": ".py",
   "mimetype": "text/x-python",
   "name": "python",
   "nbconvert_exporter": "python",
   "pygments_lexer": "ipython3",
   "version": "3.13.3"
  }
 },
 "nbformat": 4,
 "nbformat_minor": 5
}
