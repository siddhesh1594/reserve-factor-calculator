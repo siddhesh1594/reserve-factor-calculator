{
 "cells": [
  {
   "cell_type": "code",
   "execution_count": 1,
   "id": "c3e79939",
   "metadata": {},
   "outputs": [],
   "source": [
    "import numpy as np\n",
    "import pandas as pd\n",
    "from openpyxl.utils import get_column_letter"
   ]
  },
  {
   "cell_type": "code",
   "execution_count": 2,
   "id": "3ab138af",
   "metadata": {},
   "outputs": [],
   "source": [
    "t = 9 # mm thickness of shell\n",
    "b = 400 #mm width of shell a=600\n",
    "E = 66052.82 # MPa Young's modulus (B-Basis value)\n",
    "nu = 0.34 # Poisson's ratio\n",
    "alpha = 1.5 # a/b=600/400=1.5 ratio\n",
    "m = 2 #no. of half sinosoidal waves x-direction\n",
    "n = 1 #no. of half sinosoidal waves y-direction\n"
   ]
  },
  {
   "cell_type": "code",
   "execution_count": null,
   "id": "60697874",
   "metadata": {},
   "outputs": [],
   "source": [
    "# ───────────────────────────────────────────────────────────────\n",
    "# 2) Excel → DataFrame \n",
    "# ───────────────────────────────────────────────────────────────\n",
    "file_in = \"modified_CBEAM_axial_stress_and_2Delements.xlsx\"\n",
    "sheets_to_update = [\"6_redesign_2D\"]"
   ]
  },
  {
   "cell_type": "code",
   "execution_count": 4,
   "id": "4eb3ba67",
   "metadata": {},
   "outputs": [
    {
     "name": "stdout",
     "output_type": "stream",
     "text": [
      "5_redesign_2D: wrote sig_crit → RF_combined into N:P\n",
      "✓ All listed sheets updated in-place (overlay).\n"
     ]
    }
   ],
   "source": [
    "# ───────────────────────────────────────────────────────────────\n",
    "# 3) Vectorised column-wise formula\n",
    "# ───────────────────────────────────────────────────────────────\n",
    "with pd.ExcelWriter(file_in, engine=\"openpyxl\", if_sheet_exists=\"overlay\", mode=\"a\") as writer:\n",
    "    # 1) read sheets\n",
    "    for sheet in sheets_to_update:\n",
    "        df = pd.read_excel(file_in,sheet_name=sheet,engine=\"openpyxl\")\n",
    "        \n",
    "        #remember first empty columns before adding new one\n",
    "        first_blank = len(df.columns)\n",
    "\n",
    "        #force numeric for safety\n",
    "        for col in (\"sig_xx_avg\",\"sig_yy_avg\",\"sig_xy_avg\",\"vonMises\"):\n",
    "            df[col] = pd.to_numeric(df[col], errors='coerce')\n",
    "\n",
    "        #RF_strengthfactor calculation\n",
    "        df[\"RF_strengthfactor\"] = 530/(1.5*df[\"vonMises\"]) #1.5 multiplied for safety factor\n",
    "\n",
    "        #RF_shear calculation\n",
    "        df[\"sig_effective\"] = (E*(np.pi**2)*(t**2))/(12*(1-(nu**2))*(b**2))\n",
    "        df[\"k_shear\"] = 5.34 + (4/(alpha**2)) \n",
    "        df[\"sig_crit_shear\"] = df[\"sig_effective\"]*df[\"k_shear\"]\n",
    "        df[\"RF_shear\"] = df[\"sig_crit_shear\"]/(1.5*df[\"sig_xy_avg\"]) #1.5 multiplied for safety factor\n",
    "        \n",
    "        #RF_biaxial calculation\n",
    "        df[\"beta\"] = df[\"sig_yy_avg\"]/df[\"sig_xx_avg\"]\n",
    "\n",
    "        df[\"sig_xx_abs\"] = df[\"sig_xx_avg\"].abs()\n",
    "\n",
    "        # boolean masks\n",
    "        pos = df[\"beta\"] >  0           # β ≥ 0  → m = 1\n",
    "        neg = df[\"beta\"] <  0           # β <  0 → m = 2\n",
    "        \n",
    "        df.loc[pos, \"k_biaxial\"] = ((1**2+(n**2)*(alpha**2))**2)/((alpha**2)*(1**2+df[\"beta\"]*n**2*alpha**2))\n",
    "        df.loc[neg, \"k_biaxial\"] = ((2**2+(n**2)*(alpha**2))**2)/((alpha**2)*(2**2+df[\"beta\"]*n**2*alpha**2))    \n",
    "            \n",
    "        #RF_biaxial calculation    \n",
    "        df[\"sig_crit_biaxial\"] = df[\"sig_effective\"] * df[\"k_biaxial\"]\n",
    "        df[\"RF_biaxial\"] = df[\"sig_crit_biaxial\"]/(1.5*(df[\"sig_xx_abs\"]))\n",
    "           \n",
    "        \n",
    "        #RF_combined calculation\n",
    "        df[\"RF_combined_inverse\"]= (1/df[\"RF_biaxial\"]) + (1/df[\"RF_shear\"])**2\n",
    "        df[\"RF_combined\"] = 1/df[\"RF_combined_inverse\"]\n",
    "        \n",
    "        #write new columns side by side to the existing shee\n",
    "        df[[\"RF_strengthfactor\",\"sig_effective\", \"k_shear\", \"sig_crit_shear\", \"RF_shear\", \"beta\", \"k_biaxial\", \"sig_crit_biaxial\", \"RF_biaxial\", \"RF_combined\"]].to_excel(\n",
    "            writer, sheet_name=sheet, index=False, startcol=first_blank     \n",
    "        )\n",
    "\n",
    "         # 6) friendly log\n",
    "        start_letter = get_column_letter(first_blank + 1)\n",
    "        end_letter   = get_column_letter(first_blank + 3)\n",
    "        print(f\"{sheet}: wrote sig_crit → RF_combined into {start_letter}:{end_letter}\")\n",
    "\n",
    "print(\"✓ All listed sheets updated in-place (overlay).\")\n",
    "\n",
    "  "
   ]
  }
 ],
 "metadata": {
  "kernelspec": {
   "display_name": "Python 3",
   "language": "python",
   "name": "python3"
  },
  "language_info": {
   "codemirror_mode": {
    "name": "ipython",
    "version": 3
   },
   "file_extension": ".py",
   "mimetype": "text/x-python",
   "name": "python",
   "nbconvert_exporter": "python",
   "pygments_lexer": "ipython3",
   "version": "3.13.3"
  }
 },
 "nbformat": 4,
 "nbformat_minor": 5
}
