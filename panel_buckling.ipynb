{
 "cells": [
  {
   "cell_type": "code",
   "execution_count": 13,
   "id": "c3e79939",
   "metadata": {},
   "outputs": [],
   "source": [
    "import numpy as np\n",
    "import pandas as pd\n",
    "from openpyxl.utils import get_column_letter"
   ]
  },
  {
   "cell_type": "code",
   "execution_count": 14,
   "id": "3ab138af",
   "metadata": {},
   "outputs": [],
   "source": [
    "t = 4 # mm thickness of shell\n",
    "b = 400 #mm width of shell a=600\n",
    "E = 66052.82 # MPa Young's modulus (B-Basis value)\n",
    "nu = 0.34 # Poisson's ratio\n",
    "alpha = 1.5 # a/b=600/400=1.5 ratio\n",
    "m = 2 #no. of half sinosoidal waves x-direction\n",
    "n = 1 #no. of half sinosoidal waves y-direction\n"
   ]
  },
  {
   "cell_type": "code",
   "execution_count": 15,
   "id": "60697874",
   "metadata": {},
   "outputs": [],
   "source": [
    "# ───────────────────────────────────────────────────────────────\n",
    "# 2) Excel → DataFrame  (beta comes from the sheet)\n",
    "# ───────────────────────────────────────────────────────────────\n",
    "file_in = \"all_subcase_panel_buckling_calculations_python.xlsx\"\n",
    "sheets_to_update = [\"loadcase_1\", \"loadcase_2\", \"loadcase_3\"]"
   ]
  },
  {
   "cell_type": "code",
   "execution_count": 16,
   "id": "4eb3ba67",
   "metadata": {},
   "outputs": [
    {
     "name": "stdout",
     "output_type": "stream",
     "text": [
      "loadcase_1: wrote sig_crit → RF_combined into E:G\n",
      "loadcase_2: wrote sig_crit → RF_combined into E:G\n",
      "loadcase_3: wrote sig_crit → RF_combined into E:G\n",
      "✓ All listed sheets updated in-place (overlay).\n"
     ]
    }
   ],
   "source": [
    "# ───────────────────────────────────────────────────────────────\n",
    "# 3) Pre-compute the constant part of σₓ,crit\n",
    "#    K = E·π² / [ 12·(1−μ²) ] · (t/b)² · (m²+n²·α²)² / α²\n",
    "# ───────────────────────────────────────────────────────────────\n",
    "#k_num = (E*np.pi**2) * (t**2) * ((m**2 + n**2*alpha**2)**2)\n",
    "#k_denom = 12*(1-nu**2)*(b**2)*(alpha**2)\n",
    "#K = k_num / k_denom\n",
    "\n",
    "# ───────────────────────────────────────────────────────────────\n",
    "# 4) Vectorised column-wise formula\n",
    "#    σₓ,crit = K / (m² + β·n²·α²)\n",
    "# ───────────────────────────────────────────────────────────────\n",
    "with pd.ExcelWriter(file_in, engine=\"openpyxl\", if_sheet_exists=\"overlay\", mode=\"a\") as writer:\n",
    "    # 1) read sheets\n",
    "    for sheet in sheets_to_update:\n",
    "        df = pd.read_excel(file_in,sheet_name=sheet,engine=\"openpyxl\")\n",
    "        \n",
    "        #remember first empty columns before adding new one\n",
    "        first_blank = len(df.columns)\n",
    "\n",
    "        #forece numeric for safety\n",
    "        for col in (\"sig_xx_avg\",\"sig_yy_avg\",\"sig_xy_avg\"):\n",
    "            df[col] = pd.to_numeric(df[col], errors='coerce')\n",
    "\n",
    "        #RF_shear calculation\n",
    "        df[\"sig_effective\"] = (E*(np.pi**2)*(t**2))/(12*(1-(nu**2))*(b**2))\n",
    "        df[\"k_shear\"] = 5.34 + (4/(alpha**2)) \n",
    "        df[\"sig_crit_shear\"] = df[\"sig_effective\"]*df[\"k_shear\"]\n",
    "        df[\"RF_shear\"] = df[\"sig_crit_shear\"]/(1.5*df[\"sig_xy_avg\"]) #1.5 multiplied for safety factor\n",
    "        \n",
    "        #RF_biaxial calculation\n",
    "        df[\"beta\"] = df[\"sig_yy_avg\"]/df[\"sig_xx_avg\"]\n",
    "\n",
    "        df[\"sig_xx_abs\"] = df[\"sig_xx_avg\"].abs()\n",
    "\n",
    "        # boolean masks\n",
    "        pos = df[\"beta\"] >  0           # β ≥ 0  → m = 1\n",
    "        neg = df[\"beta\"] <  0           # β <  0 → m = 2\n",
    "        \n",
    "        df.loc[pos, \"k_biaxial\"] = ((1**2+(n**2)*(alpha**2))**2)/((alpha**2)*(1**2+df[\"beta\"]*n**2*alpha**2))\n",
    "        df.loc[neg, \"k_biaxial\"] = ((2**2+(n**2)*(alpha**2))**2)/((alpha**2)*(2**2+df[\"beta\"]*n**2*alpha**2))    \n",
    "            \n",
    "            \n",
    "        df[\"sig_crit_biaxial\"] = df[\"sig_effective\"] * df[\"k_biaxial\"]\n",
    "        df[\"RF_biaxial\"] = df[\"sig_crit_biaxial\"]/(1.5*(df[\"sig_xx_abs\"]))\n",
    "           \n",
    "        \n",
    "        #RF_combined calculation\n",
    "        df[\"RF_combined_inverse\"]= (1/df[\"RF_biaxial\"]) + (1/df[\"RF_shear\"])**2\n",
    "        df[\"RF_combined\"] = 1/df[\"RF_combined_inverse\"]\n",
    "        \n",
    "        #write new columns side by side to the existing shee\n",
    "        df[[\"sig_effective\", \"k_shear\", \"sig_crit_shear\", \"RF_shear\", \"beta\", \"k_biaxial\", \"sig_crit_biaxial\", \"RF_biaxial\", \"RF_combined\"]].to_excel(\n",
    "            writer, sheet_name=sheet, index=False, startcol=first_blank     \n",
    "        )\n",
    "\n",
    "         # 6) friendly log\n",
    "        start_letter = get_column_letter(first_blank + 1)\n",
    "        end_letter   = get_column_letter(first_blank + 3)\n",
    "        print(f\"{sheet}: wrote sig_crit → RF_combined into {start_letter}:{end_letter}\")\n",
    "\n",
    "print(\"✓ All listed sheets updated in-place (overlay).\")\n",
    "\n",
    "  "
   ]
  },
  {
   "cell_type": "code",
   "execution_count": null,
   "id": "578b8a36",
   "metadata": {},
   "outputs": [],
   "source": []
  }
 ],
 "metadata": {
  "kernelspec": {
   "display_name": "Python 3",
   "language": "python",
   "name": "python3"
  },
  "language_info": {
   "codemirror_mode": {
    "name": "ipython",
    "version": 3
   },
   "file_extension": ".py",
   "mimetype": "text/x-python",
   "name": "python",
   "nbconvert_exporter": "python",
   "pygments_lexer": "ipython3",
   "version": "3.13.3"
  }
 },
 "nbformat": 4,
 "nbformat_minor": 5
}
